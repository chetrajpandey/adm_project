{
 "cells": [
  {
   "cell_type": "code",
   "execution_count": 1,
   "id": "10cbd0a2",
   "metadata": {},
   "outputs": [],
   "source": [
    "import pandas as pd\n",
    "import numpy as np"
   ]
  },
  {
   "cell_type": "code",
   "execution_count": 14,
   "id": "d85ba711",
   "metadata": {},
   "outputs": [],
   "source": [
    "partition1 = 'labels_store/6_M_Partition1_.csv'\n",
    "partition2 = 'labels_store/6_M_Partition2_.csv'\n",
    "partition3 = 'labels_store/6_M_Partition3_.csv'\n",
    "partition4 = 'labels_store/6_M_Partition4_.csv'"
   ]
  },
  {
   "cell_type": "code",
   "execution_count": 15,
   "id": "e91fdf8b",
   "metadata": {},
   "outputs": [
    {
     "data": {
      "text/plain": [
       "(0    13909\n",
       " 1      879\n",
       " Name: goes_class, dtype: int64,\n",
       " 0    14933\n",
       " 1      534\n",
       " Name: goes_class, dtype: int64,\n",
       " 0    15744\n",
       " 1      928\n",
       " Name: goes_class, dtype: int64,\n",
       " 0    15715\n",
       " 1     1007\n",
       " Name: goes_class, dtype: int64)"
      ]
     },
     "execution_count": 15,
     "metadata": {},
     "output_type": "execute_result"
    }
   ],
   "source": [
    "df1 = pd.read_csv(partition1)\n",
    "df2 = pd.read_csv(partition2)\n",
    "df3 = pd.read_csv(partition3)\n",
    "df4 = pd.read_csv(partition4)\n",
    "df1['goes_class'].value_counts(), df2['goes_class'].value_counts(), df3['goes_class'].value_counts(), df4['goes_class'].value_counts()"
   ]
  },
  {
   "cell_type": "code",
   "execution_count": 16,
   "id": "d89aa062",
   "metadata": {},
   "outputs": [
    {
     "data": {
      "text/plain": [
       "(0    13313\n",
       " 1     1475\n",
       " Name: goes_class, dtype: int64,\n",
       " 0    14509\n",
       " 1      958\n",
       " Name: goes_class, dtype: int64,\n",
       " 0    15152\n",
       " 1     1520\n",
       " Name: goes_class, dtype: int64,\n",
       " 0    15000\n",
       " 1     1722\n",
       " Name: goes_class, dtype: int64)"
      ]
     },
     "execution_count": 16,
     "metadata": {},
     "output_type": "execute_result"
    }
   ],
   "source": [
    "partition1 = 'labels_store/12_M_Partition1_.csv'\n",
    "partition2 = 'labels_store/12_M_Partition2_.csv'\n",
    "partition3 = 'labels_store/12_M_Partition3_.csv'\n",
    "partition4 = 'labels_store/12_M_Partition4_.csv'\n",
    "\n",
    "df1 = pd.read_csv(partition1)\n",
    "df2 = pd.read_csv(partition2)\n",
    "df3 = pd.read_csv(partition3)\n",
    "df4 = pd.read_csv(partition4)\n",
    "df1['goes_class'].value_counts(), df2['goes_class'].value_counts(), df3['goes_class'].value_counts(), df4['goes_class'].value_counts()"
   ]
  },
  {
   "cell_type": "code",
   "execution_count": 17,
   "id": "1bfd64d5",
   "metadata": {},
   "outputs": [
    {
     "data": {
      "text/plain": [
       "(0    12847\n",
       " 1     1941\n",
       " Name: goes_class, dtype: int64,\n",
       " 0    14159\n",
       " 1     1308\n",
       " Name: goes_class, dtype: int64,\n",
       " 0    14683\n",
       " 1     1989\n",
       " Name: goes_class, dtype: int64,\n",
       " 0    14469\n",
       " 1     2253\n",
       " Name: goes_class, dtype: int64)"
      ]
     },
     "execution_count": 17,
     "metadata": {},
     "output_type": "execute_result"
    }
   ],
   "source": [
    "partition1 = 'labels_store/18_M_Partition1_.csv'\n",
    "partition2 = 'labels_store/18_M_Partition2_.csv'\n",
    "partition3 = 'labels_store/18_M_Partition3_.csv'\n",
    "partition4 = 'labels_store/18_M_Partition4_.csv'\n",
    "\n",
    "df1 = pd.read_csv(partition1)\n",
    "df2 = pd.read_csv(partition2)\n",
    "df3 = pd.read_csv(partition3)\n",
    "df4 = pd.read_csv(partition4)\n",
    "df1['goes_class'].value_counts(), df2['goes_class'].value_counts(), df3['goes_class'].value_counts(), df4['goes_class'].value_counts()"
   ]
  },
  {
   "cell_type": "code",
   "execution_count": 18,
   "id": "0c49ac70",
   "metadata": {},
   "outputs": [
    {
     "data": {
      "text/plain": [
       "(0    12454\n",
       " 1     2334\n",
       " Name: goes_class, dtype: int64,\n",
       " 0    13854\n",
       " 1     1613\n",
       " Name: goes_class, dtype: int64,\n",
       " 0    14306\n",
       " 1     2366\n",
       " Name: goes_class, dtype: int64,\n",
       " 0    14031\n",
       " 1     2691\n",
       " Name: goes_class, dtype: int64)"
      ]
     },
     "execution_count": 18,
     "metadata": {},
     "output_type": "execute_result"
    }
   ],
   "source": [
    "partition1 = 'labels_store/24_M_Partition1_.csv'\n",
    "partition2 = 'labels_store/24_M_Partition2_.csv'\n",
    "partition3 = 'labels_store/24_M_Partition3_.csv'\n",
    "partition4 = 'labels_store/24_M_Partition4_.csv'\n",
    "\n",
    "df1 = pd.read_csv(partition1)\n",
    "df2 = pd.read_csv(partition2)\n",
    "df3 = pd.read_csv(partition3)\n",
    "df4 = pd.read_csv(partition4)\n",
    "df1['goes_class'].value_counts(), df2['goes_class'].value_counts(), df3['goes_class'].value_counts(), df4['goes_class'].value_counts()"
   ]
  },
  {
   "cell_type": "code",
   "execution_count": null,
   "id": "dd91e58b",
   "metadata": {},
   "outputs": [],
   "source": []
  }
 ],
 "metadata": {
  "kernelspec": {
   "display_name": "Python 3 (ipykernel)",
   "language": "python",
   "name": "python3"
  },
  "language_info": {
   "codemirror_mode": {
    "name": "ipython",
    "version": 3
   },
   "file_extension": ".py",
   "mimetype": "text/x-python",
   "name": "python",
   "nbconvert_exporter": "python",
   "pygments_lexer": "ipython3",
   "version": "3.7.11"
  }
 },
 "nbformat": 4,
 "nbformat_minor": 5
}
